{
  "nbformat": 4,
  "nbformat_minor": 0,
  "metadata": {
    "colab": {
      "name": "GTFS.ipynb",
      "provenance": [],
      "authorship_tag": "ABX9TyOUQpMGbIhOKtzjk8BLXIRA",
      "include_colab_link": true
    },
    "kernelspec": {
      "name": "python3",
      "display_name": "Python 3"
    }
  },
  "cells": [
    {
      "cell_type": "markdown",
      "metadata": {
        "id": "view-in-github",
        "colab_type": "text"
      },
      "source": [
        "<a href=\"https://colab.research.google.com/github/smarttransit-ai/gtfs-feeds/blob/main/GTFS.ipynb\" target=\"_parent\"><img src=\"https://colab.research.google.com/assets/colab-badge.svg\" alt=\"Open In Colab\"/></a>"
      ]
    },
    {
      "cell_type": "code",
      "metadata": {
        "id": "NQr9Gzg2n7SC"
      },
      "source": [
        "!pip install --upgrade gtfs-realtime-bindings\n",
        "!pip3 install protobuf3-to-dict"
      ],
      "execution_count": null,
      "outputs": []
    },
    {
      "cell_type": "code",
      "metadata": {
        "id": "4lb0TPcEvfZE"
      },
      "source": [
        "from protobuf_to_dict import protobuf_to_dict\n",
        "from google.transit import gtfs_realtime_pb2\n",
        "import requests\n",
        "import pandas as pd\n",
        "feed = gtfs_realtime_pb2.FeedMessage()"
      ],
      "execution_count": 26,
      "outputs": []
    },
    {
      "cell_type": "code",
      "metadata": {
        "colab": {
          "base_uri": "https://localhost:8080/"
        },
        "id": "QBefHVYdoP7L",
        "outputId": "4fe234b6-a37f-43df-9cf1-11247820278b"
      },
      "source": [
        "response = requests.get('http://devdata.nashvillemta.org/TMGTFSRealTimeWebService/gtfs-realtime/trapezerealtimefeed.pb')\n",
        "feed.ParseFromString(response.content)\n",
        "dict_obj = protobuf_to_dict(feed)\n",
        "alerts=[]\n",
        "vehicles=[]\n",
        "trip_updates=[]\n",
        "\n",
        "for record in dict_obj['entity']:\n",
        "  if 'alert' in record.keys():\n",
        "    alerts.append(record['alert'])\n",
        "  if 'vehicle' in record.keys():\n",
        "    vehicles.append(record['vehicle'])\n",
        "  if 'trip_update' in record.keys():\n",
        "    trip_updates.append(record['trip_update'])\n",
        "\n",
        "print(str(len(trip_updates))+' trip updates',str(len(alerts))+' alerts',str(len(vehicles))+' vehicle updates')"
      ],
      "execution_count": 44,
      "outputs": [
        {
          "output_type": "stream",
          "text": [
            "148 trip updates 12 alerts 85 vehicle updates\n"
          ],
          "name": "stdout"
        }
      ]
    },
    {
      "cell_type": "code",
      "metadata": {
        "id": "mWLROI3Lu5VW"
      },
      "source": [
        "alertsdf = pd.DataFrame(alerts)\n",
        "vehicles = pd.DataFrame(vehicles)\n",
        "trip_updates = pd.DataFrame(trip_updates)"
      ],
      "execution_count": 45,
      "outputs": []
    },
    {
      "cell_type": "code",
      "metadata": {
        "colab": {
          "base_uri": "https://localhost:8080/"
        },
        "id": "Lc2-54NUu8m3",
        "outputId": "545181ce-7223-476f-9227-b18efb72f9fa"
      },
      "source": [
        "alertsdf.dtypes"
      ],
      "execution_count": 47,
      "outputs": [
        {
          "output_type": "execute_result",
          "data": {
            "text/plain": [
              "active_period        object\n",
              "informed_entity      object\n",
              "header_text          object\n",
              "description_text     object\n",
              "cause               float64\n",
              "effect              float64\n",
              "dtype: object"
            ]
          },
          "metadata": {
            "tags": []
          },
          "execution_count": 47
        }
      ]
    },
    {
      "cell_type": "code",
      "metadata": {
        "colab": {
          "base_uri": "https://localhost:8080/"
        },
        "id": "ZkiphGOTxuUD",
        "outputId": "1373a72a-f4dc-4ef9-af71-53fa964ec21c"
      },
      "source": [
        "vehicles.dtypes"
      ],
      "execution_count": 46,
      "outputs": [
        {
          "output_type": "execute_result",
          "data": {
            "text/plain": [
              "trip                     object\n",
              "position                 object\n",
              "timestamp                 int64\n",
              "vehicle                  object\n",
              "occupancy_status        float64\n",
              "occupancy_percentage    float64\n",
              "dtype: object"
            ]
          },
          "metadata": {
            "tags": []
          },
          "execution_count": 46
        }
      ]
    },
    {
      "cell_type": "code",
      "metadata": {
        "colab": {
          "base_uri": "https://localhost:8080/",
          "height": 141
        },
        "id": "2wcvt14VylQ1",
        "outputId": "55e79f33-3316-4439-eb74-8adf00fb84ec"
      },
      "source": [
        "vehicles.head(3)"
      ],
      "execution_count": 49,
      "outputs": [
        {
          "output_type": "execute_result",
          "data": {
            "text/html": [
              "<div>\n",
              "<style scoped>\n",
              "    .dataframe tbody tr th:only-of-type {\n",
              "        vertical-align: middle;\n",
              "    }\n",
              "\n",
              "    .dataframe tbody tr th {\n",
              "        vertical-align: top;\n",
              "    }\n",
              "\n",
              "    .dataframe thead th {\n",
              "        text-align: right;\n",
              "    }\n",
              "</style>\n",
              "<table border=\"1\" class=\"dataframe\">\n",
              "  <thead>\n",
              "    <tr style=\"text-align: right;\">\n",
              "      <th></th>\n",
              "      <th>trip</th>\n",
              "      <th>position</th>\n",
              "      <th>timestamp</th>\n",
              "      <th>vehicle</th>\n",
              "      <th>occupancy_status</th>\n",
              "      <th>occupancy_percentage</th>\n",
              "    </tr>\n",
              "  </thead>\n",
              "  <tbody>\n",
              "    <tr>\n",
              "      <th>0</th>\n",
              "      <td>{'trip_id': '231741', 'start_date': '20210310'...</td>\n",
              "      <td>{'latitude': 36.152320861816406, 'longitude': ...</td>\n",
              "      <td>1615407381</td>\n",
              "      <td>{'id': '2062', 'label': '120'}</td>\n",
              "      <td>NaN</td>\n",
              "      <td>NaN</td>\n",
              "    </tr>\n",
              "    <tr>\n",
              "      <th>1</th>\n",
              "      <td>{'trip_id': '232385', 'start_date': '20210310'...</td>\n",
              "      <td>{'latitude': 36.06172180175781, 'longitude': -...</td>\n",
              "      <td>1615407384</td>\n",
              "      <td>{'id': '2063', 'label': '121'}</td>\n",
              "      <td>1.0</td>\n",
              "      <td>20.0</td>\n",
              "    </tr>\n",
              "    <tr>\n",
              "      <th>2</th>\n",
              "      <td>{'trip_id': '232741', 'start_date': '20210310'...</td>\n",
              "      <td>{'latitude': 36.300498962402344, 'longitude': ...</td>\n",
              "      <td>1615407381</td>\n",
              "      <td>{'id': '2065', 'label': '123'}</td>\n",
              "      <td>NaN</td>\n",
              "      <td>NaN</td>\n",
              "    </tr>\n",
              "  </tbody>\n",
              "</table>\n",
              "</div>"
            ],
            "text/plain": [
              "                                                trip  ... occupancy_percentage\n",
              "0  {'trip_id': '231741', 'start_date': '20210310'...  ...                  NaN\n",
              "1  {'trip_id': '232385', 'start_date': '20210310'...  ...                 20.0\n",
              "2  {'trip_id': '232741', 'start_date': '20210310'...  ...                  NaN\n",
              "\n",
              "[3 rows x 6 columns]"
            ]
          },
          "metadata": {
            "tags": []
          },
          "execution_count": 49
        }
      ]
    },
    {
      "cell_type": "code",
      "metadata": {
        "colab": {
          "base_uri": "https://localhost:8080/"
        },
        "id": "mTQzbPGKxugO",
        "outputId": "8a0c3733-3135-4bfb-d45b-b9c1b3912e6a"
      },
      "source": [
        "trip_updates.dtypes"
      ],
      "execution_count": 48,
      "outputs": [
        {
          "output_type": "execute_result",
          "data": {
            "text/plain": [
              "trip                 object\n",
              "stop_time_update     object\n",
              "vehicle              object\n",
              "timestamp           float64\n",
              "dtype: object"
            ]
          },
          "metadata": {
            "tags": []
          },
          "execution_count": 48
        }
      ]
    }
  ]
}